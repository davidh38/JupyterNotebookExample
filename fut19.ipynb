{
 "cells": [
  {
   "cell_type": "code",
   "execution_count": 55,
   "metadata": {},
   "outputs": [],
   "source": [
    "import pandas as pd\n",
    "import numpy as np\n",
    "\n",
    "df = pd.read_csv('fut19.csv', index_col=None)"
   ]
  },
  {
   "cell_type": "code",
   "execution_count": 56,
   "metadata": {},
   "outputs": [
    {
     "data": {
      "text/plain": [
       "<bound method NDFrame.head of        player_id player_name  pace\n",
       "1158        1187      Luisão  29.0\n",
       "3992        4106  Amorebieta  29.0\n",
       "5061        5219      Dawson  29.0\n",
       "11238      11671       Rhead  27.0\n",
       "11243      11676     Mccombe  25.0\n",
       "11406      11839     Delaney  27.0\n",
       "11433      11866     Bennett  29.0\n",
       "13129      13588      Hughes  24.0\n",
       "13130      13589       Kippe  25.0\n",
       "15268      15727     Mcnulty  29.0\n",
       "17112      17577      Mbappé  99.0\n",
       "17653      18123     Delaney  27.0\n",
       "17695      18166      Mbappé  98.0>"
      ]
     },
     "execution_count": 56,
     "metadata": {},
     "output_type": "execute_result"
    }
   ],
   "source": [
    "df2 = df[['player_id','player_name','pace']][(df['pace']>97) | (df['pace']<30)]\n",
    "df2.head"
   ]
  },
  {
   "cell_type": "code",
   "execution_count": 51,
   "metadata": {},
   "outputs": [
    {
     "data": {
      "text/plain": [
       "array([    0,     1,     2, ..., 18828, 18829, 18830])"
      ]
     },
     "execution_count": 51,
     "metadata": {},
     "output_type": "execute_result"
    }
   ],
   "source": [
    "df.index.values"
   ]
  },
  {
   "cell_type": "code",
   "execution_count": null,
   "metadata": {},
   "outputs": [],
   "source": []
  }
 ],
 "metadata": {
  "kernelspec": {
   "display_name": "Python 3",
   "language": "python",
   "name": "python3"
  },
  "language_info": {
   "codemirror_mode": {
    "name": "ipython",
    "version": 3
   },
   "file_extension": ".py",
   "mimetype": "text/x-python",
   "name": "python",
   "nbconvert_exporter": "python",
   "pygments_lexer": "ipython3",
   "version": "3.7.0"
  }
 },
 "nbformat": 4,
 "nbformat_minor": 1
}
